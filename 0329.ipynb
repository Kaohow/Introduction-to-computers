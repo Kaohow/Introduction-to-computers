{
  "nbformat": 4,
  "nbformat_minor": 0,
  "metadata": {
    "colab": {
      "provenance": [],
      "authorship_tag": "ABX9TyNmSLfEnIWk9C8YV9qiDW5/",
      "include_colab_link": true
    },
    "kernelspec": {
      "name": "python3",
      "display_name": "Python 3"
    },
    "language_info": {
      "name": "python"
    }
  },
  "cells": [
    {
      "cell_type": "markdown",
      "metadata": {
        "id": "view-in-github",
        "colab_type": "text"
      },
      "source": [
        "<a href=\"https://colab.research.google.com/github/Kaohow/Introduction-to-computers/blob/main/0329.ipynb\" target=\"_parent\"><img src=\"https://colab.research.google.com/assets/colab-badge.svg\" alt=\"Open In Colab\"/></a>"
      ]
    },
    {
      "cell_type": "code",
      "execution_count": null,
      "metadata": {
        "colab": {
          "base_uri": "https://localhost:8080/"
        },
        "id": "P-8MXe1IkmQ4",
        "outputId": "5ca2f641-79f9-4d61-b45b-fd6b4b4a1315"
      },
      "outputs": [
        {
          "output_type": "stream",
          "name": "stdout",
          "text": [
            "請輸入你的身高)(cm)：180\n",
            "請輸入你的體重(kg)：90\n",
            "27.777777777777775\n"
          ]
        }
      ],
      "source": [
        "身高=int(input(\"請輸入你的身高)(cm)：\"))\n",
        "體重=int(input(\"請輸入你的體重(kg)：\"))\n",
        "bmi=體重/(身高/100)**2\n",
        "print(bmi)"
      ]
    },
    {
      "cell_type": "code",
      "source": [
        "6+7==8+5\n"
      ],
      "metadata": {
        "colab": {
          "base_uri": "https://localhost:8080/"
        },
        "id": "Kmj--xEYoZIW",
        "outputId": "24abd9aa-e5fb-47c3-eccb-86641ce705f9"
      },
      "execution_count": null,
      "outputs": [
        {
          "output_type": "execute_result",
          "data": {
            "text/plain": [
              "True"
            ]
          },
          "metadata": {},
          "execution_count": 9
        }
      ]
    },
    {
      "cell_type": "code",
      "source": [
        "6+9==8+5"
      ],
      "metadata": {
        "colab": {
          "base_uri": "https://localhost:8080/"
        },
        "id": "RCvgCsSNouZN",
        "outputId": "f7cf2bc3-5aeb-48e3-846a-e0b3fa998a1e"
      },
      "execution_count": null,
      "outputs": [
        {
          "output_type": "execute_result",
          "data": {
            "text/plain": [
              "False"
            ]
          },
          "metadata": {},
          "execution_count": 10
        }
      ]
    },
    {
      "cell_type": "code",
      "source": [
        "8+9!=2+13"
      ],
      "metadata": {
        "id": "PFUoFou0ozDV",
        "colab": {
          "base_uri": "https://localhost:8080/"
        },
        "outputId": "c9f8d7b7-6d0a-45d6-ecf1-a94c7f0b2e04"
      },
      "execution_count": 1,
      "outputs": [
        {
          "output_type": "execute_result",
          "data": {
            "text/plain": [
              "True"
            ]
          },
          "metadata": {},
          "execution_count": 1
        }
      ]
    },
    {
      "cell_type": "code",
      "source": [
        "6+9!=2+13"
      ],
      "metadata": {
        "id": "9_aUuFB5ozLZ",
        "colab": {
          "base_uri": "https://localhost:8080/"
        },
        "outputId": "94c715ab-2270-4ec5-d572-d7bd0113e29e"
      },
      "execution_count": 4,
      "outputs": [
        {
          "output_type": "execute_result",
          "data": {
            "text/plain": [
              "False"
            ]
          },
          "metadata": {},
          "execution_count": 4
        }
      ]
    },
    {
      "cell_type": "code",
      "source": [
        "8+9>2+13"
      ],
      "metadata": {
        "id": "aYev9XzXozOl",
        "colab": {
          "base_uri": "https://localhost:8080/"
        },
        "outputId": "d31d48da-6a7f-4746-e0cf-cf59774d80b0"
      },
      "execution_count": 3,
      "outputs": [
        {
          "output_type": "execute_result",
          "data": {
            "text/plain": [
              "True"
            ]
          },
          "metadata": {},
          "execution_count": 3
        }
      ]
    },
    {
      "cell_type": "code",
      "source": [
        "6+9<2+13"
      ],
      "metadata": {
        "id": "lj-t0BsLozSy",
        "colab": {
          "base_uri": "https://localhost:8080/"
        },
        "outputId": "c2c80c25-b9d6-49bd-b5e3-263ffc9c23ea"
      },
      "execution_count": 2,
      "outputs": [
        {
          "output_type": "execute_result",
          "data": {
            "text/plain": [
              "False"
            ]
          },
          "metadata": {},
          "execution_count": 2
        }
      ]
    },
    {
      "cell_type": "code",
      "source": [
        "5+9<=2+13"
      ],
      "metadata": {
        "id": "AJabMoz8ozVn",
        "colab": {
          "base_uri": "https://localhost:8080/"
        },
        "outputId": "e4f83f94-b822-42b6-eb08-869871b318b8"
      },
      "execution_count": 5,
      "outputs": [
        {
          "output_type": "execute_result",
          "data": {
            "text/plain": [
              "True"
            ]
          },
          "metadata": {},
          "execution_count": 5
        }
      ]
    },
    {
      "cell_type": "code",
      "source": [
        "8+9<=2+13"
      ],
      "metadata": {
        "id": "3qBX0Jb8ozYg",
        "colab": {
          "base_uri": "https://localhost:8080/"
        },
        "outputId": "03cfa4c7-1864-43fa-f8e0-3c3e01b8380f"
      },
      "execution_count": 6,
      "outputs": [
        {
          "output_type": "execute_result",
          "data": {
            "text/plain": [
              "False"
            ]
          },
          "metadata": {},
          "execution_count": 6
        }
      ]
    },
    {
      "cell_type": "code",
      "source": [
        "3+9>=2+13"
      ],
      "metadata": {
        "id": "jrwQjcIrozbo",
        "colab": {
          "base_uri": "https://localhost:8080/"
        },
        "outputId": "cb2f3b1d-02d7-4776-f41a-a54fca1d46d2"
      },
      "execution_count": 7,
      "outputs": [
        {
          "output_type": "execute_result",
          "data": {
            "text/plain": [
              "False"
            ]
          },
          "metadata": {},
          "execution_count": 7
        }
      ]
    },
    {
      "cell_type": "code",
      "source": [
        "8+9>=2+13"
      ],
      "metadata": {
        "id": "6oBno-Acozd9",
        "colab": {
          "base_uri": "https://localhost:8080/"
        },
        "outputId": "2a7de724-2a09-479b-a602-d55146fd734f"
      },
      "execution_count": 8,
      "outputs": [
        {
          "output_type": "execute_result",
          "data": {
            "text/plain": [
              "True"
            ]
          },
          "metadata": {},
          "execution_count": 8
        }
      ]
    }
  ]
}